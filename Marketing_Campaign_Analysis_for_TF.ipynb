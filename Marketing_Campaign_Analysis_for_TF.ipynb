{
 "cells": [
  {
   "cell_type": "markdown",
   "metadata": {},
   "source": [
    "# Загрузка датафрейма и библиотек"
   ]
  },
  {
   "cell_type": "code",
   "execution_count": 1,
   "metadata": {},
   "outputs": [],
   "source": [
    "import pandas as pd\n",
    "import matplotlib.pyplot as plt"
   ]
  },
  {
   "cell_type": "code",
   "execution_count": 2,
   "metadata": {},
   "outputs": [],
   "source": [
    "data = pd.read_csv('C:\\\\Users\\\\feras\\\\Downloads\\\\test_data.csv')"
   ]
  },
  {
   "cell_type": "markdown",
   "metadata": {},
   "source": [
    "# Ознакомление с датафреймом"
   ]
  },
  {
   "cell_type": "code",
   "execution_count": 3,
   "metadata": {},
   "outputs": [],
   "source": [
    "# Функция для первичного анализа дата-сета\n",
    "def analyze_df(df):\n",
    "    # выводим размерность датафрейма\n",
    "    display(\"Размерность датафрейма:\")\n",
    "    display(df.shape)\n",
    "    display(\"\")\n",
    "\n",
    "    # выводим информацию о датафрейме\n",
    "    display(\"Информация о датафрейме:\")\n",
    "    display(df.info())\n",
    "    display(\"\")\n",
    "\n",
    "    # выводим статистическую информацию о датафрейме\n",
    "    display(\"Статистическая информация о датафрейме:\")\n",
    "    display(df.describe())\n",
    "    display(\"\")\n",
    "\n",
    "    # выводим первые 10 строк датафрейма\n",
    "    display(\"Первые 10 строк датафрейма:\")\n",
    "    display(df.head(10))\n",
    "\n",
    "    # выодим кол-во пропусков\n",
    "    display(\"Кол-во пропусков\")\n",
    "    display(df.isna().sum())\n",
    "    \n",
    "    # выодим кол-во дубликатов\n",
    "    display(\"Кол-во дубликатов\")\n",
    "    display(df.duplicated().sum())"
   ]
  },
  {
   "cell_type": "code",
   "execution_count": 4,
   "metadata": {},
   "outputs": [
    {
     "data": {
      "text/plain": [
       "'Размерность датафрейма:'"
      ]
     },
     "metadata": {},
     "output_type": "display_data"
    },
    {
     "data": {
      "text/plain": [
       "(87, 17)"
      ]
     },
     "metadata": {},
     "output_type": "display_data"
    },
    {
     "data": {
      "text/plain": [
       "''"
      ]
     },
     "metadata": {},
     "output_type": "display_data"
    },
    {
     "data": {
      "text/plain": [
       "'Информация о датафрейме:'"
      ]
     },
     "metadata": {},
     "output_type": "display_data"
    },
    {
     "name": "stdout",
     "output_type": "stream",
     "text": [
      "<class 'pandas.core.frame.DataFrame'>\n",
      "RangeIndex: 87 entries, 0 to 86\n",
      "Data columns (total 17 columns):\n",
      " #   Column             Non-Null Count  Dtype \n",
      "---  ------             --------------  ----- \n",
      " 0   Campaign_id        87 non-null     int64 \n",
      " 1   Geo                87 non-null     object\n",
      " 2   Buyer              87 non-null     object\n",
      " 3   Impressions        87 non-null     int64 \n",
      " 4   Clicks             87 non-null     int64 \n",
      " 5   Installs           87 non-null     int64 \n",
      " 6   Registrations      87 non-null     int64 \n",
      " 7   Spend              87 non-null     object\n",
      " 8   Revenue_ad1d       87 non-null     object\n",
      " 9   Revenue_in_app1d   87 non-null     object\n",
      " 10  Payers1d           87 non-null     int64 \n",
      " 11  Revenue_ad7d       87 non-null     object\n",
      " 12  Revenue_in_app7d   87 non-null     object\n",
      " 13  Payers7d           87 non-null     int64 \n",
      " 14  Revenue_ad30d      87 non-null     object\n",
      " 15  Revenue_in_app30d  87 non-null     object\n",
      " 16  Payers30d          87 non-null     int64 \n",
      "dtypes: int64(8), object(9)\n",
      "memory usage: 11.7+ KB\n"
     ]
    },
    {
     "data": {
      "text/plain": [
       "None"
      ]
     },
     "metadata": {},
     "output_type": "display_data"
    },
    {
     "data": {
      "text/plain": [
       "''"
      ]
     },
     "metadata": {},
     "output_type": "display_data"
    },
    {
     "data": {
      "text/plain": [
       "'Статистическая информация о датафрейме:'"
      ]
     },
     "metadata": {},
     "output_type": "display_data"
    },
    {
     "data": {
      "text/html": [
       "<div>\n",
       "<style scoped>\n",
       "    .dataframe tbody tr th:only-of-type {\n",
       "        vertical-align: middle;\n",
       "    }\n",
       "\n",
       "    .dataframe tbody tr th {\n",
       "        vertical-align: top;\n",
       "    }\n",
       "\n",
       "    .dataframe thead th {\n",
       "        text-align: right;\n",
       "    }\n",
       "</style>\n",
       "<table border=\"1\" class=\"dataframe\">\n",
       "  <thead>\n",
       "    <tr style=\"text-align: right;\">\n",
       "      <th></th>\n",
       "      <th>Campaign_id</th>\n",
       "      <th>Impressions</th>\n",
       "      <th>Clicks</th>\n",
       "      <th>Installs</th>\n",
       "      <th>Registrations</th>\n",
       "      <th>Payers1d</th>\n",
       "      <th>Payers7d</th>\n",
       "      <th>Payers30d</th>\n",
       "    </tr>\n",
       "  </thead>\n",
       "  <tbody>\n",
       "    <tr>\n",
       "      <th>count</th>\n",
       "      <td>87.000000</td>\n",
       "      <td>8.700000e+01</td>\n",
       "      <td>87.000000</td>\n",
       "      <td>87.000000</td>\n",
       "      <td>87.000000</td>\n",
       "      <td>87.000000</td>\n",
       "      <td>87.000000</td>\n",
       "      <td>87.000000</td>\n",
       "    </tr>\n",
       "    <tr>\n",
       "      <th>mean</th>\n",
       "      <td>44.000000</td>\n",
       "      <td>1.140572e+05</td>\n",
       "      <td>3804.494253</td>\n",
       "      <td>1211.850575</td>\n",
       "      <td>769.057471</td>\n",
       "      <td>2.034483</td>\n",
       "      <td>2.551724</td>\n",
       "      <td>2.816092</td>\n",
       "    </tr>\n",
       "    <tr>\n",
       "      <th>std</th>\n",
       "      <td>25.258662</td>\n",
       "      <td>3.989255e+05</td>\n",
       "      <td>14610.898115</td>\n",
       "      <td>3883.087208</td>\n",
       "      <td>2577.564690</td>\n",
       "      <td>7.169782</td>\n",
       "      <td>8.798465</td>\n",
       "      <td>9.299323</td>\n",
       "    </tr>\n",
       "    <tr>\n",
       "      <th>min</th>\n",
       "      <td>1.000000</td>\n",
       "      <td>2.185000e+03</td>\n",
       "      <td>53.000000</td>\n",
       "      <td>10.000000</td>\n",
       "      <td>2.000000</td>\n",
       "      <td>0.000000</td>\n",
       "      <td>0.000000</td>\n",
       "      <td>0.000000</td>\n",
       "    </tr>\n",
       "    <tr>\n",
       "      <th>25%</th>\n",
       "      <td>22.500000</td>\n",
       "      <td>1.057700e+04</td>\n",
       "      <td>276.500000</td>\n",
       "      <td>107.500000</td>\n",
       "      <td>44.500000</td>\n",
       "      <td>0.000000</td>\n",
       "      <td>0.000000</td>\n",
       "      <td>0.000000</td>\n",
       "    </tr>\n",
       "    <tr>\n",
       "      <th>50%</th>\n",
       "      <td>44.000000</td>\n",
       "      <td>2.619300e+04</td>\n",
       "      <td>724.000000</td>\n",
       "      <td>258.000000</td>\n",
       "      <td>147.000000</td>\n",
       "      <td>0.000000</td>\n",
       "      <td>0.000000</td>\n",
       "      <td>1.000000</td>\n",
       "    </tr>\n",
       "    <tr>\n",
       "      <th>75%</th>\n",
       "      <td>65.500000</td>\n",
       "      <td>7.088950e+04</td>\n",
       "      <td>2063.500000</td>\n",
       "      <td>763.500000</td>\n",
       "      <td>501.500000</td>\n",
       "      <td>2.000000</td>\n",
       "      <td>2.000000</td>\n",
       "      <td>3.000000</td>\n",
       "    </tr>\n",
       "    <tr>\n",
       "      <th>max</th>\n",
       "      <td>87.000000</td>\n",
       "      <td>3.456974e+06</td>\n",
       "      <td>129508.000000</td>\n",
       "      <td>33054.000000</td>\n",
       "      <td>21932.000000</td>\n",
       "      <td>64.000000</td>\n",
       "      <td>79.000000</td>\n",
       "      <td>83.000000</td>\n",
       "    </tr>\n",
       "  </tbody>\n",
       "</table>\n",
       "</div>"
      ],
      "text/plain": [
       "       Campaign_id   Impressions         Clicks      Installs  Registrations  \\\n",
       "count    87.000000  8.700000e+01      87.000000     87.000000      87.000000   \n",
       "mean     44.000000  1.140572e+05    3804.494253   1211.850575     769.057471   \n",
       "std      25.258662  3.989255e+05   14610.898115   3883.087208    2577.564690   \n",
       "min       1.000000  2.185000e+03      53.000000     10.000000       2.000000   \n",
       "25%      22.500000  1.057700e+04     276.500000    107.500000      44.500000   \n",
       "50%      44.000000  2.619300e+04     724.000000    258.000000     147.000000   \n",
       "75%      65.500000  7.088950e+04    2063.500000    763.500000     501.500000   \n",
       "max      87.000000  3.456974e+06  129508.000000  33054.000000   21932.000000   \n",
       "\n",
       "        Payers1d   Payers7d  Payers30d  \n",
       "count  87.000000  87.000000  87.000000  \n",
       "mean    2.034483   2.551724   2.816092  \n",
       "std     7.169782   8.798465   9.299323  \n",
       "min     0.000000   0.000000   0.000000  \n",
       "25%     0.000000   0.000000   0.000000  \n",
       "50%     0.000000   0.000000   1.000000  \n",
       "75%     2.000000   2.000000   3.000000  \n",
       "max    64.000000  79.000000  83.000000  "
      ]
     },
     "metadata": {},
     "output_type": "display_data"
    },
    {
     "data": {
      "text/plain": [
       "''"
      ]
     },
     "metadata": {},
     "output_type": "display_data"
    },
    {
     "data": {
      "text/plain": [
       "'Первые 10 строк датафрейма:'"
      ]
     },
     "metadata": {},
     "output_type": "display_data"
    },
    {
     "data": {
      "text/html": [
       "<div>\n",
       "<style scoped>\n",
       "    .dataframe tbody tr th:only-of-type {\n",
       "        vertical-align: middle;\n",
       "    }\n",
       "\n",
       "    .dataframe tbody tr th {\n",
       "        vertical-align: top;\n",
       "    }\n",
       "\n",
       "    .dataframe thead th {\n",
       "        text-align: right;\n",
       "    }\n",
       "</style>\n",
       "<table border=\"1\" class=\"dataframe\">\n",
       "  <thead>\n",
       "    <tr style=\"text-align: right;\">\n",
       "      <th></th>\n",
       "      <th>Campaign_id</th>\n",
       "      <th>Geo</th>\n",
       "      <th>Buyer</th>\n",
       "      <th>Impressions</th>\n",
       "      <th>Clicks</th>\n",
       "      <th>Installs</th>\n",
       "      <th>Registrations</th>\n",
       "      <th>Spend</th>\n",
       "      <th>Revenue_ad1d</th>\n",
       "      <th>Revenue_in_app1d</th>\n",
       "      <th>Payers1d</th>\n",
       "      <th>Revenue_ad7d</th>\n",
       "      <th>Revenue_in_app7d</th>\n",
       "      <th>Payers7d</th>\n",
       "      <th>Revenue_ad30d</th>\n",
       "      <th>Revenue_in_app30d</th>\n",
       "      <th>Payers30d</th>\n",
       "    </tr>\n",
       "  </thead>\n",
       "  <tbody>\n",
       "    <tr>\n",
       "      <th>0</th>\n",
       "      <td>1</td>\n",
       "      <td>north america</td>\n",
       "      <td>buyer_1</td>\n",
       "      <td>3456974</td>\n",
       "      <td>129508</td>\n",
       "      <td>33054</td>\n",
       "      <td>21932</td>\n",
       "      <td>3208,440002</td>\n",
       "      <td>1163,521408</td>\n",
       "      <td>162,220001</td>\n",
       "      <td>64</td>\n",
       "      <td>1381,310062</td>\n",
       "      <td>199,749999</td>\n",
       "      <td>79</td>\n",
       "      <td>1527,013835</td>\n",
       "      <td>276,629998</td>\n",
       "      <td>83</td>\n",
       "    </tr>\n",
       "    <tr>\n",
       "      <th>1</th>\n",
       "      <td>2</td>\n",
       "      <td>north america</td>\n",
       "      <td>buyer_2</td>\n",
       "      <td>245542</td>\n",
       "      <td>6306</td>\n",
       "      <td>3401</td>\n",
       "      <td>2448</td>\n",
       "      <td>1569,519999</td>\n",
       "      <td>833,059639</td>\n",
       "      <td>37,25</td>\n",
       "      <td>17</td>\n",
       "      <td>1200,964697</td>\n",
       "      <td>69,340001</td>\n",
       "      <td>19</td>\n",
       "      <td>1449,001828</td>\n",
       "      <td>120,250001</td>\n",
       "      <td>22</td>\n",
       "    </tr>\n",
       "    <tr>\n",
       "      <th>2</th>\n",
       "      <td>3</td>\n",
       "      <td>north america</td>\n",
       "      <td>buyer_1</td>\n",
       "      <td>1281103</td>\n",
       "      <td>35724</td>\n",
       "      <td>13315</td>\n",
       "      <td>8101</td>\n",
       "      <td>1231,999998</td>\n",
       "      <td>459,6826</td>\n",
       "      <td>3,26</td>\n",
       "      <td>4</td>\n",
       "      <td>524,987826</td>\n",
       "      <td>24,7</td>\n",
       "      <td>6</td>\n",
       "      <td>572,633765</td>\n",
       "      <td>24,7</td>\n",
       "      <td>6</td>\n",
       "    </tr>\n",
       "    <tr>\n",
       "      <th>3</th>\n",
       "      <td>4</td>\n",
       "      <td>north america</td>\n",
       "      <td>buyer_1</td>\n",
       "      <td>215538</td>\n",
       "      <td>9987</td>\n",
       "      <td>3119</td>\n",
       "      <td>1857</td>\n",
       "      <td>1228,129999</td>\n",
       "      <td>602,77816</td>\n",
       "      <td>26,13</td>\n",
       "      <td>11</td>\n",
       "      <td>830,113889</td>\n",
       "      <td>33,439999</td>\n",
       "      <td>12</td>\n",
       "      <td>1042,831595</td>\n",
       "      <td>57,530002</td>\n",
       "      <td>12</td>\n",
       "    </tr>\n",
       "    <tr>\n",
       "      <th>4</th>\n",
       "      <td>5</td>\n",
       "      <td>western europe</td>\n",
       "      <td>buyer_2</td>\n",
       "      <td>335878</td>\n",
       "      <td>7343</td>\n",
       "      <td>3952</td>\n",
       "      <td>2955</td>\n",
       "      <td>872,570005</td>\n",
       "      <td>427,807238</td>\n",
       "      <td>19,030001</td>\n",
       "      <td>4</td>\n",
       "      <td>577,039081</td>\n",
       "      <td>20,640001</td>\n",
       "      <td>5</td>\n",
       "      <td>714,554179</td>\n",
       "      <td>32,150001</td>\n",
       "      <td>6</td>\n",
       "    </tr>\n",
       "    <tr>\n",
       "      <th>5</th>\n",
       "      <td>6</td>\n",
       "      <td>north america</td>\n",
       "      <td>buyer_2</td>\n",
       "      <td>79419</td>\n",
       "      <td>2124</td>\n",
       "      <td>1110</td>\n",
       "      <td>745</td>\n",
       "      <td>556,720001</td>\n",
       "      <td>237,204412</td>\n",
       "      <td>9,77</td>\n",
       "      <td>3</td>\n",
       "      <td>315,078178</td>\n",
       "      <td>26,550001</td>\n",
       "      <td>4</td>\n",
       "      <td>389,36361</td>\n",
       "      <td>26,550001</td>\n",
       "      <td>4</td>\n",
       "    </tr>\n",
       "    <tr>\n",
       "      <th>6</th>\n",
       "      <td>7</td>\n",
       "      <td>north america</td>\n",
       "      <td>buyer_3</td>\n",
       "      <td>88809</td>\n",
       "      <td>3113</td>\n",
       "      <td>926</td>\n",
       "      <td>603</td>\n",
       "      <td>525,51001</td>\n",
       "      <td>252,857545</td>\n",
       "      <td>15,37</td>\n",
       "      <td>3</td>\n",
       "      <td>361,393394</td>\n",
       "      <td>32,160001</td>\n",
       "      <td>3</td>\n",
       "      <td>433,87208</td>\n",
       "      <td>32,160001</td>\n",
       "      <td>3</td>\n",
       "    </tr>\n",
       "    <tr>\n",
       "      <th>7</th>\n",
       "      <td>8</td>\n",
       "      <td>north america</td>\n",
       "      <td>buyer_3</td>\n",
       "      <td>113917</td>\n",
       "      <td>3966</td>\n",
       "      <td>1249</td>\n",
       "      <td>854</td>\n",
       "      <td>521,509998</td>\n",
       "      <td>306,853212</td>\n",
       "      <td>30,78</td>\n",
       "      <td>2</td>\n",
       "      <td>484,534634</td>\n",
       "      <td>39,17</td>\n",
       "      <td>3</td>\n",
       "      <td>770,979189</td>\n",
       "      <td>47,56</td>\n",
       "      <td>4</td>\n",
       "    </tr>\n",
       "    <tr>\n",
       "      <th>8</th>\n",
       "      <td>9</td>\n",
       "      <td>north america</td>\n",
       "      <td>buyer_2</td>\n",
       "      <td>65516</td>\n",
       "      <td>1717</td>\n",
       "      <td>905</td>\n",
       "      <td>685</td>\n",
       "      <td>460,33</td>\n",
       "      <td>186,115059</td>\n",
       "      <td>25,129999</td>\n",
       "      <td>6</td>\n",
       "      <td>274,565038</td>\n",
       "      <td>29,999999</td>\n",
       "      <td>9</td>\n",
       "      <td>352,509658</td>\n",
       "      <td>60,35</td>\n",
       "      <td>10</td>\n",
       "    </tr>\n",
       "    <tr>\n",
       "      <th>9</th>\n",
       "      <td>10</td>\n",
       "      <td>north america</td>\n",
       "      <td>buyer_2</td>\n",
       "      <td>64739</td>\n",
       "      <td>1899</td>\n",
       "      <td>928</td>\n",
       "      <td>539</td>\n",
       "      <td>416,130001</td>\n",
       "      <td>177,430283</td>\n",
       "      <td>0</td>\n",
       "      <td>0</td>\n",
       "      <td>240,487613</td>\n",
       "      <td>0</td>\n",
       "      <td>0</td>\n",
       "      <td>268,50108</td>\n",
       "      <td>0</td>\n",
       "      <td>0</td>\n",
       "    </tr>\n",
       "  </tbody>\n",
       "</table>\n",
       "</div>"
      ],
      "text/plain": [
       "   Campaign_id             Geo    Buyer  Impressions  Clicks  Installs  \\\n",
       "0            1   north america  buyer_1      3456974  129508     33054   \n",
       "1            2   north america  buyer_2       245542    6306      3401   \n",
       "2            3   north america  buyer_1      1281103   35724     13315   \n",
       "3            4   north america  buyer_1       215538    9987      3119   \n",
       "4            5  western europe  buyer_2       335878    7343      3952   \n",
       "5            6   north america  buyer_2        79419    2124      1110   \n",
       "6            7   north america  buyer_3        88809    3113       926   \n",
       "7            8   north america  buyer_3       113917    3966      1249   \n",
       "8            9   north america  buyer_2        65516    1717       905   \n",
       "9           10   north america  buyer_2        64739    1899       928   \n",
       "\n",
       "   Registrations        Spend Revenue_ad1d Revenue_in_app1d  Payers1d  \\\n",
       "0          21932  3208,440002  1163,521408       162,220001        64   \n",
       "1           2448  1569,519999   833,059639            37,25        17   \n",
       "2           8101  1231,999998     459,6826             3,26         4   \n",
       "3           1857  1228,129999    602,77816            26,13        11   \n",
       "4           2955   872,570005   427,807238        19,030001         4   \n",
       "5            745   556,720001   237,204412             9,77         3   \n",
       "6            603    525,51001   252,857545            15,37         3   \n",
       "7            854   521,509998   306,853212            30,78         2   \n",
       "8            685       460,33   186,115059        25,129999         6   \n",
       "9            539   416,130001   177,430283                0         0   \n",
       "\n",
       "  Revenue_ad7d Revenue_in_app7d  Payers7d Revenue_ad30d Revenue_in_app30d  \\\n",
       "0  1381,310062       199,749999        79   1527,013835        276,629998   \n",
       "1  1200,964697        69,340001        19   1449,001828        120,250001   \n",
       "2   524,987826             24,7         6    572,633765              24,7   \n",
       "3   830,113889        33,439999        12   1042,831595         57,530002   \n",
       "4   577,039081        20,640001         5    714,554179         32,150001   \n",
       "5   315,078178        26,550001         4     389,36361         26,550001   \n",
       "6   361,393394        32,160001         3     433,87208         32,160001   \n",
       "7   484,534634            39,17         3    770,979189             47,56   \n",
       "8   274,565038        29,999999         9    352,509658             60,35   \n",
       "9   240,487613                0         0     268,50108                 0   \n",
       "\n",
       "   Payers30d  \n",
       "0         83  \n",
       "1         22  \n",
       "2          6  \n",
       "3         12  \n",
       "4          6  \n",
       "5          4  \n",
       "6          3  \n",
       "7          4  \n",
       "8         10  \n",
       "9          0  "
      ]
     },
     "metadata": {},
     "output_type": "display_data"
    },
    {
     "data": {
      "text/plain": [
       "'Кол-во пропусков'"
      ]
     },
     "metadata": {},
     "output_type": "display_data"
    },
    {
     "data": {
      "text/plain": [
       "Campaign_id          0\n",
       "Geo                  0\n",
       "Buyer                0\n",
       "Impressions          0\n",
       "Clicks               0\n",
       "Installs             0\n",
       "Registrations        0\n",
       "Spend                0\n",
       "Revenue_ad1d         0\n",
       "Revenue_in_app1d     0\n",
       "Payers1d             0\n",
       "Revenue_ad7d         0\n",
       "Revenue_in_app7d     0\n",
       "Payers7d             0\n",
       "Revenue_ad30d        0\n",
       "Revenue_in_app30d    0\n",
       "Payers30d            0\n",
       "dtype: int64"
      ]
     },
     "metadata": {},
     "output_type": "display_data"
    },
    {
     "data": {
      "text/plain": [
       "'Кол-во дубликатов'"
      ]
     },
     "metadata": {},
     "output_type": "display_data"
    },
    {
     "data": {
      "text/plain": [
       "0"
      ]
     },
     "metadata": {},
     "output_type": "display_data"
    }
   ],
   "source": [
    "analyze_df(data)"
   ]
  },
  {
   "cell_type": "code",
   "execution_count": 5,
   "metadata": {},
   "outputs": [
    {
     "data": {
      "text/plain": [
       "Index(['campaign_id', 'geo', 'buyer', 'impressions', 'clicks', 'installs',\n",
       "       'registrations', 'spend', 'revenue_ad1d', 'revenue_in_app1d',\n",
       "       'payers1d', 'revenue_ad7d', 'revenue_in_app7d', 'payers7d',\n",
       "       'revenue_ad30d', 'revenue_in_app30d', 'payers30d'],\n",
       "      dtype='object')"
      ]
     },
     "execution_count": 5,
     "metadata": {},
     "output_type": "execute_result"
    }
   ],
   "source": [
    "# Приводим названия столбцов к нижнему регистру\n",
    "data.columns = data.columns.str.lower()\n",
    "# Проверяем\n",
    "data.columns"
   ]
  },
  {
   "cell_type": "markdown",
   "metadata": {},
   "source": [
    "## Приводим данные в столбцах к корректному типу"
   ]
  },
  {
   "cell_type": "code",
   "execution_count": 7,
   "metadata": {},
   "outputs": [
    {
     "data": {
      "text/plain": [
       "array([1, 2, 3, 4, 5], dtype=int64)"
      ]
     },
     "metadata": {},
     "output_type": "display_data"
    }
   ],
   "source": [
    "data['buyer'] = data['buyer'].replace({'buyer_1': 1,\n",
    "                                       'buyer_2': 2,\n",
    "                                       'buyer_3': 3,\n",
    "                                       'buyer_4': 4,\n",
    "                                       'buyer_5': 5})\n",
    "# Проверяем\n",
    "display(data['buyer'].unique())"
   ]
  },
  {
   "cell_type": "code",
   "execution_count": 8,
   "metadata": {},
   "outputs": [],
   "source": [
    "to_float = ['spend', 'revenue_ad1d', 'revenue_in_app1d', 'revenue_ad7d', 'revenue_in_app7d', 'revenue_ad30d', 'revenue_in_app30d']\n",
    "\n",
    "# Удаление запятых из значений в указанных столбцах\n",
    "for column in to_float:\n",
    "    data[column] = data[column].str.replace(',', '.')\n",
    "\n",
    "# Преобразование столбцов в тип float\n",
    "data[to_float] = data[to_float].astype(float)"
   ]
  },
  {
   "cell_type": "code",
   "execution_count": 18,
   "metadata": {},
   "outputs": [
    {
     "data": {
      "text/plain": [
       "'Уникальные значения в столбце \"campaign_id\":'"
      ]
     },
     "metadata": {},
     "output_type": "display_data"
    },
    {
     "data": {
      "text/plain": [
       "array([ 1,  2,  3,  4,  5,  6,  7,  8,  9, 10, 11, 12, 13, 14, 15, 16, 17,\n",
       "       18, 19, 20, 21, 22, 23, 24, 25, 26, 27, 28, 29, 30, 31, 32, 33, 34,\n",
       "       35, 36, 37, 38, 39, 40, 41, 42, 43, 44, 45, 46, 47, 48, 49, 50, 51,\n",
       "       52, 53, 54, 55, 56, 57, 58, 59, 60, 61, 62, 63, 64, 65, 66, 67, 68,\n",
       "       69, 70, 71, 72, 73, 74, 75, 76, 77, 78, 79, 80, 81, 82, 83, 84, 85,\n",
       "       86, 87], dtype=int64)"
      ]
     },
     "metadata": {},
     "output_type": "display_data"
    },
    {
     "data": {
      "text/plain": [
       "'Уникальные значения в столбце \"geo\":'"
      ]
     },
     "metadata": {},
     "output_type": "display_data"
    },
    {
     "data": {
      "text/plain": [
       "array(['north america', 'western europe', 'cis', 'north africa',\n",
       "       'latin america', 'tropical africa', 'australia oceania'],\n",
       "      dtype=object)"
      ]
     },
     "metadata": {},
     "output_type": "display_data"
    },
    {
     "data": {
      "text/plain": [
       "'Уникальные значения в столбце \"buyer\":'"
      ]
     },
     "metadata": {},
     "output_type": "display_data"
    },
    {
     "data": {
      "text/plain": [
       "array([1, 2, 3, 4, 5], dtype=int64)"
      ]
     },
     "metadata": {},
     "output_type": "display_data"
    },
    {
     "data": {
      "text/plain": [
       "'Уникальные значения в столбце \"impressions\":'"
      ]
     },
     "metadata": {},
     "output_type": "display_data"
    },
    {
     "data": {
      "text/plain": [
       "array([3456974,  245542, 1281103,  215538,  335878,   79419,   88809,\n",
       "        113917,   65516,   64739,   58686,   59889,   99721,  104913,\n",
       "        129620,  188812,   40401,   43921,   36099,   39441,  794504,\n",
       "         26193,   24275,  201923,   21178,   46678,  295356,  113642,\n",
       "         18125,   49131,   27598,   61216,   21635,   15540,   16071,\n",
       "        117497,    9923,   11431,   13381,   32115,  100570,   60794,\n",
       "         12356,    9903,  113452,   24983,    8726,   76263,   58709,\n",
       "         10849,   65206,    6519,    7459,    4778,    5013,  154149,\n",
       "         44902,    7254,   40633,   90894,   13002,   14062,    8164,\n",
       "          5070,   23016,    4379,    3095,    3815,   41822,   10112,\n",
       "         11319,   15080,   10305,   12042,    3927,    9845,   39282,\n",
       "          4203,    4041,    8981,    2185,   20958,   15729,   16404,\n",
       "         27422,    8334,   16622], dtype=int64)"
      ]
     },
     "metadata": {},
     "output_type": "display_data"
    },
    {
     "data": {
      "text/plain": [
       "'Уникальные значения в столбце \"clicks\":'"
      ]
     },
     "metadata": {},
     "output_type": "display_data"
    },
    {
     "data": {
      "text/plain": [
       "array([129508,   6306,  35724,   9987,   7343,   2124,   3113,   3966,\n",
       "         1717,   1899,   1984,   2024,   1594,   2949,   4195,   5581,\n",
       "         1622,   1086,   1136,    730,  28598,    939,    759,  16025,\n",
       "          636,    798,   8540,   3027,    628,   1449,    880,   1044,\n",
       "          475,    724,    399,   3120,    248,    541,    434,    841,\n",
       "         3246,   2484,    521,    481,   6161,   1020,    492,   2103,\n",
       "         1930,    453,    695,    216,    482,    131,    145,   3526,\n",
       "         1463,    173,    480,   2735,    315,    194,    118,    215,\n",
       "          549,    182,    102,    117,    734,    190,    296,    152,\n",
       "          178,    257,    144,    168,    754,    110,    207,    298,\n",
       "           53,    308,    451,    210,    358,    154,    547],\n",
       "      dtype=int64)"
      ]
     },
     "metadata": {},
     "output_type": "display_data"
    },
    {
     "data": {
      "text/plain": [
       "'Уникальные значения в столбце \"installs\":'"
      ]
     },
     "metadata": {},
     "output_type": "display_data"
    },
    {
     "data": {
      "text/plain": [
       "array([33054,  3401, 13315,  3119,  3952,  1110,   926,  1249,   905,\n",
       "         928,   749,  1064,   970,  1780,  1431,  2421,   524,   492,\n",
       "         568,   291,  8069,   441,   311,  2836,   239,   369,  3133,\n",
       "         734,   307,   723,   335,   547,   238,   251,   183,   600,\n",
       "         128,   201,   235,   269,  1610,   708,   165,   146,  1969,\n",
       "         265,   174,   743,   372,    98,   191,    77,   129,    64,\n",
       "          71,  1591,   733,    66,   199,   778,   123,   116,    63,\n",
       "         253,    37,    47,    72,   326,    90,   102,    61,    80,\n",
       "          93,    48,    73,   122,    46,    76,   160,    10,   144,\n",
       "         180,    69,   113,    58,   258], dtype=int64)"
      ]
     },
     "metadata": {},
     "output_type": "display_data"
    },
    {
     "data": {
      "text/plain": [
       "'Уникальные значения в столбце \"registrations\":'"
      ]
     },
     "metadata": {},
     "output_type": "display_data"
    },
    {
     "data": {
      "text/plain": [
       "array([21932,  2448,  8101,  1857,  2955,   745,   603,   854,   685,\n",
       "         539,   518,   583,   702,  1076,   902,  1364,   258,   333,\n",
       "         353,   231,  6218,   189,   152,  1944,   183,   208,  1880,\n",
       "         432,   159,   461,   270,   318,   202,   147,    94,    88,\n",
       "         101,    74,    81,   714,   407,    66,    78,  1195,   141,\n",
       "          51,   166,   219,    36,    40,    46,    53,    31,    24,\n",
       "         851,   269,    42,    41,   485,    86,    77,    57,    11,\n",
       "          17,    15,     2,   248,    49,    71,    21,    43,    20,\n",
       "          38,     4,     9,    62,    26,    27,   142], dtype=int64)"
      ]
     },
     "metadata": {},
     "output_type": "display_data"
    },
    {
     "data": {
      "text/plain": [
       "'Уникальные значения в столбце \"spend\":'"
      ]
     },
     "metadata": {},
     "output_type": "display_data"
    },
    {
     "data": {
      "text/plain": [
       "array([3208.440002, 1569.519999, 1231.999998, 1228.129999,  872.570005,\n",
       "        556.720001,  525.51001 ,  521.509998,  460.33    ,  416.130001,\n",
       "        409.690001,  405.509998,  384.739998,  326.98    ,  297.279999,\n",
       "        278.970003,  275.890001,  270.34    ,  265.35    ,  233.390001,\n",
       "        204.389999,  202.629999,  179.720003,  156.430002,  153.51    ,\n",
       "        147.970001,  143.820002,  143.629999,  138.649998,  137.1     ,\n",
       "        136.879999,  122.019999,  116.75    ,  105.849998,   99.58    ,\n",
       "         98.359999,   96.74    ,   93.789999,   91.880001,   87.16    ,\n",
       "         82.389999,   73.68    ,   73.490002,   73.16    ,   69.079998,\n",
       "         65.389999,   62.4     ,   61.759998,   54.190001,   53.4     ,\n",
       "         48.059999,   48.01    ,   45.700001,   45.01    ,   44.58    ,\n",
       "         43.5     ,   42.190001,   42.089998,   41.91    ,   41.51    ,\n",
       "         40.200001,   33.419998,   29.92    ,   28.23    ,   27.9     ,\n",
       "         27.459999,   27.01    ,   25.76    ,   24.629999,   24.290001,\n",
       "         24.129999,   24.110001,   23.76    ,   23.32    ,   23.15    ,\n",
       "         22.780001,   22.700001,   22.049999,   21.950001,   21.549999,\n",
       "         21.      ,   20.610001,   20.549999,   20.43    ,   20.41    ])"
      ]
     },
     "metadata": {},
     "output_type": "display_data"
    },
    {
     "data": {
      "text/plain": [
       "'Уникальные значения в столбце \"revenue_ad1d\":'"
      ]
     },
     "metadata": {},
     "output_type": "display_data"
    },
    {
     "data": {
      "text/plain": [
       "array([1.16352141e+03, 8.33059639e+02, 4.59682600e+02, 6.02778160e+02,\n",
       "       4.27807238e+02, 2.37204412e+02, 2.52857545e+02, 3.06853212e+02,\n",
       "       1.86115059e+02, 1.77430283e+02, 1.63803575e+02, 1.81964882e+02,\n",
       "       2.31865353e+02, 9.61568430e+01, 9.01437590e+01, 1.12178944e+02,\n",
       "       7.40317830e+01, 1.60979183e+02, 1.30386289e+02, 9.61569850e+01,\n",
       "       1.65965650e+01, 7.28005000e+01, 4.62226160e+01, 9.29572840e+01,\n",
       "       1.13351948e+02, 5.68001670e+01, 4.55031290e+01, 1.68908120e+01,\n",
       "       5.33855600e+01, 1.31065869e+02, 1.00510319e+02, 6.75604050e+01,\n",
       "       8.13199290e+01, 5.12163950e+01, 2.15897860e+01, 1.91049250e+01,\n",
       "       2.69571090e+01, 2.50653090e+01, 2.35220740e+01, 1.39542680e+01,\n",
       "       3.75505790e+01, 2.75725120e+01, 2.41612990e+01, 2.00948780e+01,\n",
       "       2.65081200e+01, 3.26711690e+01, 1.19400150e+01, 1.24593990e+01,\n",
       "       1.17077530e+01, 3.37305800e+00, 3.33995500e+00, 6.79266500e+00,\n",
       "       1.29102010e+01, 6.48620500e+00, 8.30357500e+00, 3.81628100e+00,\n",
       "       1.67074990e+01, 1.01566710e+01, 2.08562800e+00, 5.47379400e+00,\n",
       "       1.91781950e+01, 1.52806050e+01, 3.41613660e+01, 1.71506730e+01,\n",
       "       3.92906000e-01, 6.24499700e+00, 9.01451900e+00, 3.68663000e-01,\n",
       "       1.79291360e+01, 1.35675510e+01, 1.15671620e+01, 1.00138340e+01,\n",
       "       7.99964100e+00, 5.80655500e+00, 1.62919810e+01, 1.04779620e+01,\n",
       "       1.35948300e+00, 8.55244000e+00, 9.14312300e+00, 5.11279000e-01,\n",
       "       1.18730400e+00, 3.70322600e+00, 2.28306500e+00, 2.34265400e+00,\n",
       "       8.89579300e+00, 2.12165000e+00, 1.01376340e+01])"
      ]
     },
     "metadata": {},
     "output_type": "display_data"
    },
    {
     "data": {
      "text/plain": [
       "'Уникальные значения в столбце \"revenue_in_app1d\":'"
      ]
     },
     "metadata": {},
     "output_type": "display_data"
    },
    {
     "data": {
      "text/plain": [
       "array([162.220001,  37.25    ,   3.26    ,  26.13    ,  19.030001,\n",
       "         9.77    ,  15.37    ,  30.78    ,  25.129999,   0.      ,\n",
       "        12.53    ,   3.47    ,   0.73    ,   4.19    ,   5.77    ,\n",
       "         8.34    ,  10.38    ,  11.16    ,  11.88    ,   2.08    ,\n",
       "         9.08    ,   8.39    ,  11.29    ,   0.69    ,   3.16    ,\n",
       "         3.03    ,   6.26    ,  17.47    ,   1.28    ,   0.49    ,\n",
       "         3.1     ,   0.55    ,   1.48    ,   0.54    ,   3.38    ,\n",
       "         1.18    ,   1.49    ])"
      ]
     },
     "metadata": {},
     "output_type": "display_data"
    },
    {
     "data": {
      "text/plain": [
       "'Уникальные значения в столбце \"payers1d\":'"
      ]
     },
     "metadata": {},
     "output_type": "display_data"
    },
    {
     "data": {
      "text/plain": [
       "array([64, 17,  4, 11,  3,  2,  6,  0,  1,  5], dtype=int64)"
      ]
     },
     "metadata": {},
     "output_type": "display_data"
    },
    {
     "data": {
      "text/plain": [
       "'Уникальные значения в столбце \"revenue_ad7d\":'"
      ]
     },
     "metadata": {},
     "output_type": "display_data"
    },
    {
     "data": {
      "text/plain": [
       "array([1.38131006e+03, 1.20096470e+03, 5.24987826e+02, 8.30113889e+02,\n",
       "       5.77039081e+02, 3.15078178e+02, 3.61393394e+02, 4.84534634e+02,\n",
       "       2.74565038e+02, 2.40487613e+02, 2.51676735e+02, 2.80528092e+02,\n",
       "       3.40080940e+02, 1.31027069e+02, 1.30350635e+02, 1.47225113e+02,\n",
       "       1.01332599e+02, 2.04411795e+02, 1.77699245e+02, 1.32120541e+02,\n",
       "       1.94257930e+01, 1.00642448e+02, 6.85908090e+01, 1.17630269e+02,\n",
       "       1.48397449e+02, 9.98156790e+01, 5.65557160e+01, 2.20292850e+01,\n",
       "       1.04992718e+02, 1.81802195e+02, 1.55663275e+02, 9.71237920e+01,\n",
       "       1.07925810e+02, 7.13008510e+01, 2.58650050e+01, 2.23256170e+01,\n",
       "       3.36471830e+01, 3.34037210e+01, 2.59576030e+01, 1.90814380e+01,\n",
       "       4.32488730e+01, 3.69860500e+01, 2.78375930e+01, 2.67563840e+01,\n",
       "       3.32373450e+01, 3.90258040e+01, 1.86894390e+01, 1.65251430e+01,\n",
       "       1.35293090e+01, 4.38283900e+00, 4.43309800e+00, 1.03562590e+01,\n",
       "       1.44744380e+01, 8.10966900e+00, 1.18593270e+01, 5.04222700e+00,\n",
       "       1.88710260e+01, 1.19350450e+01, 2.34346100e+00, 6.15988100e+00,\n",
       "       2.17608780e+01, 2.37231410e+01, 4.37890660e+01, 2.01673200e+01,\n",
       "       5.92263000e-01, 7.62430800e+00, 1.23357450e+01, 3.68663000e-01,\n",
       "       2.00337370e+01, 1.86682260e+01, 1.55696340e+01, 1.40204870e+01,\n",
       "       1.03383740e+01, 7.22403700e+00, 1.78429810e+01, 1.18871980e+01,\n",
       "       1.92796000e+00, 1.04159960e+01, 1.18609460e+01, 5.11279000e-01,\n",
       "       1.21266400e+00, 4.41364600e+00, 4.25251000e+00, 2.38865400e+00,\n",
       "       1.97314510e+01, 4.63213000e+00, 1.13954770e+01])"
      ]
     },
     "metadata": {},
     "output_type": "display_data"
    },
    {
     "data": {
      "text/plain": [
       "'Уникальные значения в столбце \"revenue_in_app7d\":'"
      ]
     },
     "metadata": {},
     "output_type": "display_data"
    },
    {
     "data": {
      "text/plain": [
       "array([199.749999,  69.340001,  24.7     ,  33.439999,  20.640001,\n",
       "        26.550001,  32.160001,  39.17    ,  29.999999,   0.      ,\n",
       "        13.91    ,   3.47    ,   5.48    ,   9.      ,   5.77    ,\n",
       "        17.35    ,  11.07    ,  11.85    ,  16.74    ,   2.08    ,\n",
       "         9.77    ,   8.39    ,  12.4     ,   1.38    ,   3.16    ,\n",
       "         4.57    ,   0.72    ,   6.26    ,  18.160001,   1.84    ,\n",
       "         0.49    ,   3.1     ,   0.55    ,   0.56    ,   1.48    ,\n",
       "         0.73    ,  10.46    ,   0.54    ,   3.38    ,   2.98    ,\n",
       "         1.49    ])"
      ]
     },
     "metadata": {},
     "output_type": "display_data"
    },
    {
     "data": {
      "text/plain": [
       "'Уникальные значения в столбце \"payers7d\":'"
      ]
     },
     "metadata": {},
     "output_type": "display_data"
    },
    {
     "data": {
      "text/plain": [
       "array([79, 19,  6, 12,  5,  4,  3,  9,  0,  8,  2,  1], dtype=int64)"
      ]
     },
     "metadata": {},
     "output_type": "display_data"
    },
    {
     "data": {
      "text/plain": [
       "'Уникальные значения в столбце \"revenue_ad30d\":'"
      ]
     },
     "metadata": {},
     "output_type": "display_data"
    },
    {
     "data": {
      "text/plain": [
       "array([1.52701383e+03, 1.44900183e+03, 5.72633765e+02, 1.04283160e+03,\n",
       "       7.14554179e+02, 3.89363610e+02, 4.33872080e+02, 7.70979189e+02,\n",
       "       3.52509658e+02, 2.68501080e+02, 3.90541706e+02, 3.39694637e+02,\n",
       "       4.60489636e+02, 1.55082237e+02, 1.61763608e+02, 1.67952115e+02,\n",
       "       1.26727738e+02, 2.17129430e+02, 2.00748127e+02, 1.87258096e+02,\n",
       "       2.15967900e+01, 1.28652905e+02, 1.05268586e+02, 1.29256093e+02,\n",
       "       2.03260172e+02, 1.08184224e+02, 6.14352600e+01, 2.55841950e+01,\n",
       "       1.17297491e+02, 2.93140940e+02, 1.92697524e+02, 1.02471383e+02,\n",
       "       1.34986309e+02, 8.22567090e+01, 3.26106330e+01, 2.37590280e+01,\n",
       "       3.52685640e+01, 6.62346440e+01, 3.05638270e+01, 3.38501580e+01,\n",
       "       4.68498360e+01, 4.64452070e+01, 3.15298330e+01, 3.09363190e+01,\n",
       "       3.61436770e+01, 4.37994060e+01, 1.96713350e+01, 2.10837060e+01,\n",
       "       1.43670150e+01, 5.77383900e+00, 5.20671700e+00, 1.23658240e+01,\n",
       "       1.59382200e+01, 8.26479600e+00, 1.59147600e+01, 5.48965000e+00,\n",
       "       1.98245190e+01, 1.19465470e+01, 2.71235200e+00, 6.45185500e+00,\n",
       "       2.76798520e+01, 2.46569230e+01, 6.70518950e+01, 2.04530540e+01,\n",
       "       6.06263000e-01, 8.85475600e+00, 1.70733660e+01, 3.68663000e-01,\n",
       "       2.03192560e+01, 1.99840280e+01, 1.84145970e+01, 1.47775140e+01,\n",
       "       1.05737840e+01, 1.31080770e+01, 1.83141780e+01, 1.22992940e+01,\n",
       "       2.70515300e+00, 1.08626580e+01, 1.32095290e+01, 8.15656000e-01,\n",
       "       1.21266400e+00, 4.53713700e+00, 7.58377600e+00, 2.40523200e+00,\n",
       "       3.07839030e+01, 5.12740600e+00, 1.23986170e+01])"
      ]
     },
     "metadata": {},
     "output_type": "display_data"
    },
    {
     "data": {
      "text/plain": [
       "'Уникальные значения в столбце \"revenue_in_app30d\":'"
      ]
     },
     "metadata": {},
     "output_type": "display_data"
    },
    {
     "data": {
      "text/plain": [
       "array([276.629998, 120.250001,  24.7     ,  57.530002,  32.150001,\n",
       "        26.550001,  32.160001,  47.56    ,  60.35    ,   0.      ,\n",
       "        15.29    ,   7.64    ,   8.76    ,  13.19    ,   6.33    ,\n",
       "        25.21    ,  11.07    ,  11.85    ,  20.22    ,   4.86    ,\n",
       "        11.84    ,   8.39    ,  20.039999,   2.81    ,   4.46    ,\n",
       "        11.93    ,   0.72    ,   9.75    ,   0.69    ,   3.13    ,\n",
       "         2.08    ,   0.49    ,   3.1     ,   0.55    ,   0.56    ,\n",
       "         1.48    ,   0.73    ,  10.46    ,   8.44    ,   6.71    ,\n",
       "         2.98    ,   7.48    ])"
      ]
     },
     "metadata": {},
     "output_type": "display_data"
    },
    {
     "data": {
      "text/plain": [
       "'Уникальные значения в столбце \"payers30d\":'"
      ]
     },
     "metadata": {},
     "output_type": "display_data"
    },
    {
     "data": {
      "text/plain": [
       "array([83, 22,  6, 12,  4,  3, 10,  0,  5,  2,  1], dtype=int64)"
      ]
     },
     "metadata": {},
     "output_type": "display_data"
    },
    {
     "data": {
      "text/plain": [
       "'Уникальные значения в столбце \"CPI\":'"
      ]
     },
     "metadata": {},
     "output_type": "display_data"
    },
    {
     "data": {
      "text/plain": [
       "array([0.09706662, 0.4614878 , 0.09252722, 0.39375761, 0.22079201,\n",
       "       0.50154955, 0.56750541, 0.41754203, 0.50865193, 0.44841595,\n",
       "       0.54698264, 0.38111842, 0.39663917, 0.18369663, 0.20774284,\n",
       "       0.11522925, 0.52650764, 0.54947154, 0.46716549, 0.80202749,\n",
       "       0.02533028, 0.45947846, 0.57787782, 0.05515867, 0.64230126,\n",
       "       0.40100271, 0.04590488, 0.1956812 , 0.45162866, 0.18962656,\n",
       "       0.40859701, 0.2230713 , 0.49054622, 0.42171314, 0.54415301,\n",
       "       0.16393333, 0.75578125, 0.46661691, 0.39097873, 0.32401487,\n",
       "       0.05117391, 0.1040678 , 0.44539395, 0.50109589, 0.0350838 ,\n",
       "       0.24675471, 0.35862069, 0.08312247, 0.14567205, 0.54489796,\n",
       "       0.25162303, 0.62350649, 0.35426357, 0.70328125, 0.62788732,\n",
       "       0.02734129, 0.05755798, 0.63772724, 0.21060302, 0.05335476,\n",
       "       0.32682928, 0.28810343, 0.4675    , 0.44809524, 0.11027668,\n",
       "       0.74216214, 0.57468085, 0.35777778, 0.07555214, 0.2698889 ,\n",
       "       0.23656862, 0.39524592, 0.297     , 0.25075269, 0.48583333,\n",
       "       0.31712329, 0.18672132, 0.49347828, 0.29013157, 0.13718751,\n",
       "       2.1549999 , 0.14583333, 0.11450001, 0.29782607, 0.18079646,\n",
       "       0.35224138, 0.07910853])"
      ]
     },
     "metadata": {},
     "output_type": "display_data"
    }
   ],
   "source": [
    "# Вывод уникальных значений столбцов\n",
    "for column in data.columns:\n",
    "    unique_values = data[column].unique()\n",
    "    display(f'Уникальные значения в столбце \"{column}\":')\n",
    "    display(unique_values)\n",
    "    display()"
   ]
  },
  {
   "cell_type": "markdown",
   "metadata": {},
   "source": [
    "## Вывод о первичном ознакомлении\n",
    "- Пропусков не наблюдается\n",
    "- Средние значение столбцов близко к медианному. Это означает малое / отсутствие выбросов\n",
    "- Уникальные значения столбцов выгледят естественными"
   ]
  },
  {
   "cell_type": "markdown",
   "metadata": {},
   "source": [
    "# Вычисление метрик"
   ]
  },
  {
   "cell_type": "markdown",
   "metadata": {},
   "source": [
    "## CTR (Click-Through Rate)"
   ]
  },
  {
   "cell_type": "code",
   "execution_count": 10,
   "metadata": {},
   "outputs": [
    {
     "name": "stdout",
     "output_type": "stream",
     "text": [
      "Гео с наименьшим CTR: western europe\n"
     ]
    }
   ],
   "source": [
    "# Группировка данных по 'geo' и вычисление среднего CTR\n",
    "geo_ctr = data.groupby('geo')['clicks'].sum() / data.groupby('geo')['impressions'].sum()\n",
    "\n",
    "# Нахождение макрорегиона с наименьшим CTR\n",
    "worst_geo_ctr = geo_ctr.idxmin()\n",
    "print(\"Гео с наименьшим CTR:\", worst_geo_ctr)"
   ]
  },
  {
   "cell_type": "code",
   "execution_count": 11,
   "metadata": {},
   "outputs": [
    {
     "name": "stdout",
     "output_type": "stream",
     "text": [
      "Гео с наибольшим CTR: north america\n"
     ]
    }
   ],
   "source": [
    "# Нахождение макрорегиона с наибольшим CTR\n",
    "best_geo_ctr = geo_ctr.idxmax()\n",
    "print(\"Гео с наибольшим CTR:\", best_geo_ctr)"
   ]
  },
  {
   "cell_type": "markdown",
   "metadata": {},
   "source": [
    "## ROI (Return on Investment)"
   ]
  },
  {
   "cell_type": "code",
   "execution_count": 12,
   "metadata": {},
   "outputs": [
    {
     "name": "stdout",
     "output_type": "stream",
     "text": [
      "Худший медиабайер по ROI: 5\n"
     ]
    }
   ],
   "source": [
    "# Группировка данных по 'buyer' и вычисление ROI (прибыль / затраты)\n",
    "roi_by_buyer = data.groupby('buyer')['revenue_ad1d'].sum() / data.groupby('buyer')['spend'].sum()\n",
    "\n",
    "# Нахождение медиабайера с наименьшим ROI\n",
    "worst_buyer = roi_by_buyer.idxmin()\n",
    "print(\"Худший медиабайер по ROI:\", worst_buyer)"
   ]
  },
  {
   "cell_type": "code",
   "execution_count": 13,
   "metadata": {},
   "outputs": [
    {
     "name": "stdout",
     "output_type": "stream",
     "text": [
      "Лучший медиабайер по ROI: 3\n"
     ]
    }
   ],
   "source": [
    "# Нахождение медиабайера с наибольшим ROI\n",
    "best_buyer = roi_by_buyer.idxmax()\n",
    "print(\"Лучший медиабайер по ROI:\", best_buyer)"
   ]
  },
  {
   "cell_type": "markdown",
   "metadata": {},
   "source": [
    "## CPI (Cost Per Install)"
   ]
  },
  {
   "cell_type": "code",
   "execution_count": 14,
   "metadata": {},
   "outputs": [
    {
     "name": "stdout",
     "output_type": "stream",
     "text": [
      "Самая дешевая кампания по CPI: 21\n"
     ]
    }
   ],
   "source": [
    "# Вычисление CPI (Cost Per Install) для каждой кампании\n",
    "data['CPI'] = data['spend'] / data['installs']\n",
    "\n",
    "# Нахождение кампанию с самым низким CPI\n",
    "cheapest_campaign = data.loc[data['CPI'].idxmin(), 'campaign_id']\n",
    "print(\"Самая дешевая кампания по CPI:\", cheapest_campaign)"
   ]
  },
  {
   "cell_type": "code",
   "execution_count": 15,
   "metadata": {},
   "outputs": [
    {
     "name": "stdout",
     "output_type": "stream",
     "text": [
      "Самая дорогая кампания по CPI: 81\n"
     ]
    }
   ],
   "source": [
    "# Нахождение кампанию с самым высоким CPI\n",
    "most_expensive_campaign = data.loc[data['CPI'].idxmax(), 'campaign_id']\n",
    "print(\"Самая дорогая кампания по CPI:\", most_expensive_campaign)"
   ]
  },
  {
   "cell_type": "markdown",
   "metadata": {},
   "source": [
    "## CPC (Cost Per Click)"
   ]
  },
  {
   "cell_type": "code",
   "execution_count": 16,
   "metadata": {},
   "outputs": [
    {
     "name": "stdout",
     "output_type": "stream",
     "text": [
      "Лучший регион по CPC: north africa\n"
     ]
    }
   ],
   "source": [
    "# Группировка данных по 'geo' и вычисление CPC для каждого региона\n",
    "geo_cpc = data.groupby('geo')['spend'].sum() / data.groupby('geo')['clicks'].sum()\n",
    "\n",
    "# Находим лучший регион по CPC\n",
    "best_geo_cpc = geo_cpc.idxmin()\n",
    "print(\"Лучший регион по CPC:\", best_geo_cpc)"
   ]
  },
  {
   "cell_type": "code",
   "execution_count": 17,
   "metadata": {},
   "outputs": [
    {
     "name": "stdout",
     "output_type": "stream",
     "text": [
      "Худший регион по CPC: australia oceania\n"
     ]
    }
   ],
   "source": [
    "# Находим лучший регион по CPC\n",
    "worst_geo_cpc = geo_cpc.idxmax()\n",
    "print(\"Худший регион по CPC:\", worst_geo_cpc)"
   ]
  },
  {
   "cell_type": "markdown",
   "metadata": {},
   "source": [
    "# Вывод (ответы на поставленные вопросы)"
   ]
  },
  {
   "cell_type": "markdown",
   "metadata": {},
   "source": [
    "- Макрорегион с наибольшим CTR (кликнувших на рекламу, увидев ее): north america\n",
    "- Макрорегион с наименьшим CTR (кликнувших на рекламу, увидев ее): western europe\n",
    "- Лучший медиабайер по ROI (прибыльность инвестиций в маркетинг): 3\n",
    "- Худший медиабайер по ROI (прибыльность инвестиций в маркетинг): 5\n",
    "- Самая дешевая кампания по CPI (стоимость установки): 21\n",
    "- Самая дорогая кампания по CPI (стоимость установки): 81\n",
    "- Лучший регион по CPC (стоимость клика): north africa\n",
    "- Худший регион по CPC (стоимость клика): australia oceania\n",
    "\n",
    "В ходе выполнения анализа были даны ответы на поставленные в ТЗ вопросы + приведена 1 (бонустная :)) метрика \\\n",
    "На этом исследование можно считать успешно завершенным"
   ]
  }
 ],
 "metadata": {
  "kernelspec": {
   "display_name": "base",
   "language": "python",
   "name": "python3"
  },
  "language_info": {
   "codemirror_mode": {
    "name": "ipython",
    "version": 3
   },
   "file_extension": ".py",
   "mimetype": "text/x-python",
   "name": "python",
   "nbconvert_exporter": "python",
   "pygments_lexer": "ipython3",
   "version": "3.10.12"
  },
  "orig_nbformat": 4
 },
 "nbformat": 4,
 "nbformat_minor": 2
}
